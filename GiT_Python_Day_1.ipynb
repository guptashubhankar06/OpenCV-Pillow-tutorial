{
  "nbformat": 4,
  "nbformat_minor": 0,
  "metadata": {
    "colab": {
      "name": "GiT Python Day 1.ipynb",
      "provenance": [],
      "collapsed_sections": [],
      "include_colab_link": true
    },
    "kernelspec": {
      "name": "python3",
      "display_name": "Python 3"
    }
  },
  "cells": [
    {
      "cell_type": "markdown",
      "metadata": {
        "id": "view-in-github",
        "colab_type": "text"
      },
      "source": [
        "<a href=\"https://colab.research.google.com/github/shubhaankargupta/image-editing-python/blob/main/GiT_Python_Day_1.ipynb\" target=\"_parent\"><img src=\"https://colab.research.google.com/assets/colab-badge.svg\" alt=\"Open In Colab\"/></a>"
      ]
    },
    {
      "cell_type": "markdown",
      "metadata": {
        "id": "wB-sveMud5UZ"
      },
      "source": [
        "# Welcome to Girls in Tech\n",
        "\n",
        "**Overview and Goals**:\n",
        "This notebook teaches the foundations of computer science and basic programming in Python to sufficiently prepare students for the tomorrow's OpenCV, Matplotlib and PIL session.\n",
        "\n",
        "**Notebook Structure**:\n",
        "Each section of this notebook has example programs to explore and written programming exercises.\n",
        "\n",
        "**Note**:\n",
        "We will share this notebook with all of you and give you the viewer access. You are requested to make a copy of the same for yourself and write the codes in that CoLab notebook. You are most welcome to ask for any help. \n",
        "\n"
      ]
    },
    {
      "cell_type": "markdown",
      "metadata": {
        "id": "-oy1UxxZufE3"
      },
      "source": [
        "**What is Python?**\n",
        "\n",
        "Python is a popular programming language which was created by Guido van Rossum. \n",
        "\n",
        "**It is used for various tasks like web development, software development,mathematics, system scripting.There is so much that python can do. It can connect to database systems, read and modify files, handle big data, perform complex mathematics.**\n",
        "\n",
        "Python works on different platforms (Windows, Mac, Linux, Raspberry Pi, etc). Python has a: \n",
        "1) Simple syntax similar to the English language \n",
        "2) Runs on an interpreter system, meaning that code can be executed as soon as it is written. \n",
        "3) Can be treated in a procedural way, an object-oriented way or a functional way. \n",
        "\n",
        "**It uses new lines to complete a command as opposed to other programming languages which often use semicolons or parentheses. Python relies on indentation, whitespace to define scope; such as the scope of loops, functions and classes.**\n",
        "\n"
      ]
    },
    {
      "cell_type": "markdown",
      "metadata": {
        "id": "-f0EKIeKozmD"
      },
      "source": [
        "# 1. Entering Expressions into the Interactive Shell\n",
        "\n",
        "Enter 5 + 5 at the prompt to have Python do some simple math."
      ]
    },
    {
      "cell_type": "code",
      "metadata": {
        "id": "kMyFyaUQo7zL"
      },
      "source": [
        "5 + 5"
      ],
      "execution_count": null,
      "outputs": []
    },
    {
      "cell_type": "markdown",
      "metadata": {
        "id": "kZ88HZ_opDrT"
      },
      "source": [
        "In Python, 2 + 2; 5 - 5 is called an expression, which is the most basic kind of programming instruction in the language. \n",
        "\n",
        "Expressions consist of values (such as 2) and operators (such as +), and they can always evaluate down to a single value."
      ]
    },
    {
      "cell_type": "markdown",
      "metadata": {
        "id": "H8VNADMspU_6"
      },
      "source": [
        "Notice that we can add numeric variables in Python using the + operator. So it behaves like traditional addition as well as the concatenation (putting strings together) that you will learn about a bit later. \n",
        "\n",
        "We can use plenty of other operators in Python expressions, too. For example, \n",
        "\n",
        "\n",
        "\n",
        "*   subtraction `-` (e.g. 4 - 2 evaluates to 2)\n",
        "*   multiplication `*` (e.g. 3.4 * 10 evaluates to 34)\n",
        "*   exact division `/` (e.g. 5/2 evaluates to 2.5)\n",
        "*   integer division `//` (leaving off the decimal part, e.g. 5//2 evaluates to  2. It removes the fractional part)\n",
        "*   Exponents `**` (e.g. 2**3 evaluates to 8. This is 2 raised to the power 3)\n",
        "*   Modulus `%` (e.g. 5%2 evaluates to 1. Modulus is the remainder we get after dividing 5 by 2)\n",
        "\n",
        "Let's see more examples like this."
      ]
    },
    {
      "cell_type": "code",
      "metadata": {
        "id": "ykl65XShps76"
      },
      "source": [
        "100 - 25 * 3 % 4"
      ],
      "execution_count": null,
      "outputs": []
    },
    {
      "cell_type": "markdown",
      "metadata": {
        "id": "2ALlNGTYrdU8"
      },
      "source": [
        "What do think did it do in the above code. \n",
        "\n",
        "Yes, it followed the rule of `PEMDAS` also called as the `order of operations or precedence`.\n",
        "\n",
        "P - Parentheses E - Exponents M - Multiplication D - Division A - Addition S - Subtraction.\n",
        "\n",
        "The order of operations of Python math operators is similar to that of mathematics.\n",
        "\n",
        "\n",
        "The `**` and `()` operator is evaluated first; the `*`, `/`, `//`, and `%` operators are evaluated next, from left to right; and the `+` and `-` operators are evaluated last again from left to right. \n",
        "\n",
        "Whitespace in between the operators and values doesn’t matter for Python except for the indentation at the beginning of the line. You will learn about this a little later when we discuss about conditionals\n",
        "\n",
        "So, in the above example, starting from the left, the first operation that will be performed is *. This operation evaluates to 75. After which, the % operation will be performed which will evaluate to 3. In the end, we - operation will be performed which will evaluate to 97\n",
        "\n",
        "Now with that knowledge, predict the output of these equations. Do not run the commands. First try predicting the result yourself and after that run the cell and see if your answer was correct."
      ]
    },
    {
      "cell_type": "code",
      "metadata": {
        "id": "cRftWCbxs0I9"
      },
      "source": [
        "3 + 2 + 1 - 5 + 4 % 2 - 1 / 4 + 6"
      ],
      "execution_count": null,
      "outputs": []
    },
    {
      "cell_type": "code",
      "metadata": {
        "id": "GH8LnErku5Zi"
      },
      "source": [
        "25 + 30 / 6 + (25 % 5) - 15"
      ],
      "execution_count": null,
      "outputs": []
    },
    {
      "cell_type": "markdown",
      "metadata": {
        "id": "AsU9XXUNthEh"
      },
      "source": [
        "# 2. Integer, Floating-Point and String Data Types\n",
        "\n",
        "Expressions are just values combined with operators and they always evaluate down to a single value. A data type is a category for values and every value belongs to exactly one data type. The most common data types in Python are .`Integers`,`Floating point numbers`,`Strings`.\n",
        "\n",
        "*   Values 5 and -3 are said to be integer values or `ints`. \n",
        "*   Numbers with a decimal point, such as 1.04 are called floating-point numbers or `floats`. Even though the value 42 is an integer, the value 42.0 would be a floating-point number.\n",
        "*   Python programs can also have text values. These are called strings, or strs. Whenever writing a string, we should always surround it with single quote `''` or double quotes `\"\"` so that Python knows where the string begins and ends. "
      ]
    },
    {
      "cell_type": "code",
      "metadata": {
        "id": "8VeacT7ZcloL"
      },
      "source": [
        "type(43.5)"
      ],
      "execution_count": null,
      "outputs": []
    },
    {
      "cell_type": "markdown",
      "metadata": {
        "id": "aADCzLzsvKyE"
      },
      "source": [
        "# 3. Strings Concatenation \n",
        "\n",
        "The meaning and working of an operator may change based on the data types of the values next to it. \n",
        "\n",
        "`+` is the addition operator when it operates on two integers or floating-point values. However, when `+` is used on two string values, it joins the strings  and acts as the string concatenation operator. "
      ]
    },
    {
      "cell_type": "code",
      "metadata": {
        "id": "ypdNhrilvRXp"
      },
      "source": [
        "\"Breakfast: \" + \"English muffin\""
      ],
      "execution_count": null,
      "outputs": []
    },
    {
      "cell_type": "markdown",
      "metadata": {
        "id": "VH3kqhzewODS"
      },
      "source": [
        "There is one exception here which needs to be kept in mind. If you try to use the `+` operator on a string and an integer value, Python will not know how to handle this, and it will display an error message."
      ]
    },
    {
      "cell_type": "code",
      "metadata": {
        "id": "VyGfkyGvwc1x"
      },
      "source": [
        "'Steve' + 42"
      ],
      "execution_count": null,
      "outputs": []
    },
    {
      "cell_type": "markdown",
      "metadata": {
        "id": "ScBnsyrPwmSs"
      },
      "source": [
        "Now, we all from the previous knowledge know that `*` operator multiplies two integer or floating-point values. \n",
        "\n",
        "But when the `*` operator is used on one string value and one integer value, it becomes the string replication operator. \n",
        "\n",
        "A thing to be kept in mind here is that the `*` operator can be used with only two numeric values for multiplication or one string value and one integer value for string replication. Otherwise, Python will just display an error message, like the following:Let us see an example"
      ]
    },
    {
      "cell_type": "code",
      "metadata": {
        "id": "v9lnIvp4wlxK"
      },
      "source": [
        "'Steve' * 5"
      ],
      "execution_count": null,
      "outputs": []
    },
    {
      "cell_type": "code",
      "metadata": {
        "id": "lxpQ020ZxF3y"
      },
      "source": [
        "'Steve' * 'Jobs'"
      ],
      "execution_count": null,
      "outputs": []
    },
    {
      "cell_type": "markdown",
      "metadata": {
        "id": "n-HSfYNWxML6"
      },
      "source": [
        "# 4. Variables\n",
        "\n",
        "Metaphorically, we can think of variables like a box in the computer’s memory where we can store a single value. If we want to use the result of an evaluated expression later in our program, we can save it inside a variable. So, Variables are like containers in which we can put things and extract their contents later."
      ]
    },
    {
      "cell_type": "markdown",
      "metadata": {
        "id": "TfyKP68xvAEE"
      },
      "source": [
        "\n",
        "\n",
        "To declare a variable, there are three steps:\n",
        "\n",
        "1.   Come up with a name for your variable\n",
        "2.   Write an equals sign (=)\n",
        "3.   Put the **value** you want to store in your variable after the = sign\n",
        "\n",
        "\n",
        "When learning about this, one thing to be kept in mind is that when a variable is assigned a new value, the old value is forgotten.\n"
      ]
    },
    {
      "cell_type": "markdown",
      "metadata": {
        "id": "EVV4DdHGzYVR"
      },
      "source": [
        "A good variable name describes the data it contains. Though we can name our variables almost anything but Python does have some naming restrictions. \n",
        "\n",
        "There are three rules to follow:\n",
        "\n",
        "*   It can be only one word with no spaces.\n",
        "*   It can use only letters, numbers and the underscore `_` character.\n",
        "*   It can’t begin with a number\n",
        "\n",
        "Note: Variable names are case-sensitive, which means that `pan`,`PAN`, `PaN`, `Pan` are four different variables.\n",
        "\n",
        "You can name a variable anything as long as it obeys the following three rules:"
      ]
    },
    {
      "cell_type": "code",
      "metadata": {
        "id": "oZ4OuqDCct_8"
      },
      "source": [
        "4spam = 34"
      ],
      "execution_count": null,
      "outputs": []
    },
    {
      "cell_type": "code",
      "metadata": {
        "id": "-IgFyw0hdIil"
      },
      "source": [
        "_spam = 34"
      ],
      "execution_count": null,
      "outputs": []
    },
    {
      "cell_type": "code",
      "metadata": {
        "id": "PVS3tERWdKqm"
      },
      "source": [
        "spam m = 65"
      ],
      "execution_count": null,
      "outputs": []
    },
    {
      "cell_type": "markdown",
      "metadata": {
        "id": "uWPdXFqpeOOx"
      },
      "source": [
        "# 5. The `print()` Function\n",
        " \n",
        "The `print()` function displays the string value inside its parentheses on the screen.\n",
        "\n",
        "When you use  `print`,  each new thing that you want to display will be shown on a new line. If you want to display text, you need to write the word `print`, followed by the text in quotes between parentheses: `(\"insert your text here\")`.\n",
        "\n",
        "\n",
        "This is an example of a Python program that displays the text “Hello, world!” followed by the city where you live."
      ]
    },
    {
      "cell_type": "code",
      "metadata": {
        "id": "4M6lnMOYd8ER"
      },
      "source": [
        "# Printing text\n",
        "print(\"Hello World!\")\n",
        "print(\"I live in New Delhi\")\n",
        "#  A value that is passed to the print function is an argument. "
      ],
      "execution_count": null,
      "outputs": []
    },
    {
      "cell_type": "markdown",
      "metadata": {
        "id": "GTLoAqiO3KPD"
      },
      "source": [
        "Notice that the quotes are not printed to the screen. They just mark where the string begins and ends. They are not part of the string value."
      ]
    },
    {
      "cell_type": "markdown",
      "metadata": {
        "id": "kKgxS664qoBE"
      },
      "source": [
        "Now, in the above codes did you notice those lines with `#` signs in front? Those are called **comments**. Comments are really useful to tell people what's happening in your code as well as a reminder for yourself when you review what you've written. The comments aren't actual code, so you don't need to worry about Python reading them when your programs are running. In other words, they don't get printed out."
      ]
    },
    {
      "cell_type": "markdown",
      "metadata": {
        "id": "MxI-LK78lGMu"
      },
      "source": [
        "# 6. User Input\n",
        "\n"
      ]
    },
    {
      "cell_type": "markdown",
      "metadata": {
        "id": "WoMYCl8c9A4V"
      },
      "source": [
        "\n",
        "\n",
        "When we run Python programs, we aren't restricted to specifying all the strings, integers and floats ourselves. We can also request input from the users of your program. This is a powerful tool to make your programs flexible and personalised. AI applications frequently make use of user input to tailor an experience appropriately to a particular person.\n",
        "\n",
        "The `input()` function waits for the user to type some text on the keyboard and press `ENTER`."
      ]
    },
    {
      "cell_type": "code",
      "metadata": {
        "id": "ZJ4LwGzDdW9k"
      },
      "source": [
        "name = input(\"Please input your name : \")\n",
        "print('Hey'+ name, '!')"
      ],
      "execution_count": null,
      "outputs": []
    },
    {
      "cell_type": "markdown",
      "metadata": {
        "id": "KhgwSamHlPjo"
      },
      "source": [
        "## Example: A Currency Converter"
      ]
    },
    {
      "cell_type": "markdown",
      "metadata": {
        "id": "998Efy5y-cdk"
      },
      "source": [
        "Let's suppose that you just got back from a holiday to the US. You still have some dollar bills remaining, and you want to convert these dollars back to Rs. This program will respond to your requests and convert your money back for you. Give it a run! "
      ]
    },
    {
      "cell_type": "code",
      "metadata": {
        "id": "fJb70YHelOAu"
      },
      "source": [
        "# Retrieve user's name and store in variable\n",
        "name = input(\"Hey there! What's your name? \")\n",
        "\n",
        "# Retrieve amount to be converted from the user\n",
        "amt_in_dollars = int(input(name + \", what dollar amount are you looking to convert? \"))\n",
        "\n",
        "conversion_rate = 74.68\n",
        "\n",
        "# Convert dollars to rupees using conversion_rate\n",
        "amt_in_rupees = amt_in_dollars * conversion_rate\n",
        "\n",
        "# Print the converted amount\n",
        "print(\"Sweet! $\" + str(amt_in_dollars) + \" is Rs. \" + str(amt_in_rupees))"
      ],
      "execution_count": null,
      "outputs": []
    },
    {
      "cell_type": "markdown",
      "metadata": {
        "id": "1-GHbmTs_T_A"
      },
      "source": [
        "Isn't that neat? This code has read in your name, addressed you personally asking for how much money you want to convert, and performed the conversion for you.\n",
        "\n",
        "To get user input, we perform the following steps:\n",
        "\n",
        "\n",
        "1.   Come up with a variable name to store your input\n",
        "2.   Write `=`\n",
        "3.   Write `input()`\n",
        "4.   Within the parentheses, write the message that prompts the user to enter something\n",
        "\n",
        "By default, user input gets read in as a string. In the above example, we wanted to retrieve the dollar amount to convert from the user, but we don't want to store that as a string since we want to use it in calculations. So we need to convert it to an integer. We do this by enclosing that expression in `int()`: \n",
        "\n",
        "`amt_in_dollars = int(input(name + \", what dollar amount are you looking to convert? \"))`"
      ]
    },
    {
      "cell_type": "markdown",
      "metadata": {
        "id": "nJDueUiOmNxD"
      },
      "source": [
        "## Try it out: Judge the Olympics\n",
        "\n",
        "Instead of setting the scores yourself, extend the Olympics judging program so that it asks for input from each judge, and then calculates the average of the three scores. The output should look like this:\n",
        "\n",
        "```\n",
        "Judge 1, what’s your score? 10\n",
        "Judge 2, what’s your score? 9\n",
        "Judge 3, what’s your score? 8\n",
        "Average score: 9\n",
        "```\n",
        "\n",
        "This time, instead of storing the total in a separate variable from the average, try to jump to the average in just one step. Note that you can use parentheses to specify that you want an expression to be calculated before something else, like this:\n",
        "\n",
        "```\n",
        "ans = (6 + 2 + 5) / 13\n",
        "```\n",
        "This way, the sum `6 + 2 + 5` gets calculated first, giving `13`. Then `13` is divided by `13` to give the answer, which is `1`. This value is stored in `ans`.\n"
      ]
    },
    {
      "cell_type": "code",
      "metadata": {
        "id": "Tlin7gBXsNZG"
      },
      "source": [
        "# Write your Extended Olympic Judging program here: \n"
      ],
      "execution_count": null,
      "outputs": []
    },
    {
      "cell_type": "markdown",
      "metadata": {
        "id": "Cg1myeHAeeJg"
      },
      "source": [
        "# 7. Boolean Values\n",
        "\n",
        "While the integer, floating-point, and string data types have an unlimited number of possible values, the Boolean data type has only two values: True and False."
      ]
    },
    {
      "cell_type": "code",
      "metadata": {
        "id": "z-sl5815e3gm"
      },
      "source": [
        "spam = True\n",
        "spam"
      ],
      "execution_count": null,
      "outputs": []
    },
    {
      "cell_type": "markdown",
      "metadata": {
        "id": "TpFvKgk1e81u"
      },
      "source": [
        "# 8. Comparison Operators\n",
        "Comparison operators, also called relational operators, compare two values and evaluate down to a single Boolean value."
      ]
    },
    {
      "cell_type": "markdown",
      "metadata": {
        "id": "0VEEKk8CkoYU"
      },
      "source": [
        "So far, we've been setting variables directly to Boolean values. Sometimes, however, we want to compare other values or expressions to each other. To do this, we can use **comparison operators**. \n",
        "\n",
        "There are six main types of comparison operator:\n",
        "\n",
        "\n",
        "1.   `==` checks to see if two values/expressions are equal\n",
        "2.   `!=` checks to see if two values/expressions are not equal\n",
        "3.   `>` checks to see if the left-hand value/expression is greater than the right-hand value/expression\n",
        "4.   `<` checks to see if the left-hand value/expression is less than the right-hand value/expression\n",
        "5. `>=` checks to see if the left-hand value/expression is greater than or equal to the right-hand value/expression\n",
        "6. `<=` checks to see if the left-hand value/expression is less than or equal to the right-hand value/expression\n",
        "\n",
        "If the comparison condition is satisfied, the whole expression will evaluate to `True`. If it's not, the whole expression evaluates to `False`.\n",
        "\n",
        "Let's take a look at some simple examples of this. Run the following cell and examine the outputs:"
      ]
    },
    {
      "cell_type": "code",
      "metadata": {
        "id": "7OCg-gHQ6KQw"
      },
      "source": [
        "spam = 5 >= -2\n",
        "print(spam)\n",
        "'hello' == 'Hello'"
      ],
      "execution_count": null,
      "outputs": []
    },
    {
      "cell_type": "markdown",
      "metadata": {
        "id": "3fD01mUIfo_M"
      },
      "source": [
        "# The difference between the `==` and `=` operators\n",
        "\n",
        "*   The `==` operator (equal to) asks whether two values are the same as each other.\n",
        "*   The `=` operator (assignment) puts the value on the right into the variable on the left."
      ]
    },
    {
      "cell_type": "markdown",
      "metadata": {
        "id": "BlANNkKcu1lL"
      },
      "source": [
        "# 9. Logical operators: `and`, `or`, `not`"
      ]
    },
    {
      "cell_type": "markdown",
      "metadata": {
        "id": "UjyGTyglxG1e"
      },
      "source": [
        "In the above examples, we were only checking one expression at a time. But sometimes we want to check more than one at once, or negate some expression that we've already checked. There are three keywords in Python for this:\n",
        "\n",
        "\n",
        "1. `and` checks if both the left-hand and right-hand expressions are `True`. If they are, the whole expression evaluates to `True`; otherwise it evaluates to `False`.\n",
        "\n",
        "2. `or` checks if either the left-hand or right-hand expressions are `True` (or both of them). If at least one of these expressions evaluates to `True`, then the whole expression evaluates to `True`; otherwise it evaluates to `False`.\n",
        "\n",
        "3. `not` will reverse the value of whatever expression we are checking. So `not True` is the same as `False`, and `not False` is the same as `True`.\n"
      ]
    },
    {
      "cell_type": "code",
      "metadata": {
        "id": "uSaNcMdATJph"
      },
      "source": [
        " False and True"
      ],
      "execution_count": null,
      "outputs": []
    },
    {
      "cell_type": "code",
      "metadata": {
        "id": "EVVCTYC8TTvI"
      },
      "source": [
        "not(True)"
      ],
      "execution_count": null,
      "outputs": []
    },
    {
      "cell_type": "code",
      "metadata": {
        "id": "yAawEh8C7R8D"
      },
      "source": [
        "True or True and False"
      ],
      "execution_count": null,
      "outputs": []
    },
    {
      "cell_type": "markdown",
      "metadata": {
        "id": "AP8n25lz7aK2"
      },
      "source": [
        "`and` is evaluated before `or`. That's why the first expression above is True. If we evaluated it from left to right, we would have calculated `True or True` first (which is True), and then taken the `and` of that result with `False`, giving a final value of False."
      ]
    },
    {
      "cell_type": "markdown",
      "metadata": {
        "id": "_uNA36X8gvTv"
      },
      "source": [
        "When learning about the `and`, `or`, and `not` operators it is highly necessary to be aware of its Truth table which shows every possible result of a Boolean operator. \n",
        "\n",
        "https://isaaccomputerscience.org/concepts/sys_bool_truth_tables\n"
      ]
    },
    {
      "cell_type": "code",
      "metadata": {
        "id": "WBh9TwOQ6xSG"
      },
      "source": [
        "# Define some Booleans\n",
        "bool_a = 2 * 3 == 6 # this evaluates to True\n",
        "bool_b = 9 - 4 != 5 # this evaluates to False\n",
        "\n",
        "print(bool_a and bool_b)\n",
        "print(not bool_b)"
      ],
      "execution_count": null,
      "outputs": []
    },
    {
      "cell_type": "markdown",
      "metadata": {
        "id": "kBd5UFq3mv5c"
      },
      "source": [
        "I HOPE WHATEVER WAS TAUGHT TODAY WAS CLEAR TO YOU AND YOU WERE ABLE TO BENEFIT FROM IT :) \n",
        "\n",
        "WE ARE SHARING A FEW LINKS TO READ FROM IF YOU WISH TO GAIN SOME EXTRA KNOWLEDGE ABOUT THE TOPICS TAUGHT TODAY.\n",
        "\n",
        "WE HIGHLY URGE AND RECOMMEND YOU TO DO THE EXERCISES IN THIS GOOGLE COLAB.\n",
        " \n",
        "IF YOU WISH TO DO SOME EXTRA PRACTICE, WE ARE SHARING SOME LINKS FROM WHERE YOU CAN ATTEMPT QUESTIONS AND GET YOUR BASICS CLEAR"
      ]
    },
    {
      "cell_type": "markdown",
      "metadata": {
        "id": "eMnp2bQmniMd"
      },
      "source": [
        "# **EXTRA KNOWLEDGE**\n",
        "\n",
        "**Kaggle - Hello, Python:**https://www.kaggle.com/colinmorris/hello-python\n",
        "\n",
        "**String Formatting:** https://docs.google.com/document/d/1AdOVZ_i1s2chbMLm3CzyTsMaqW9LkKSrdjLPxVnj1WM/edit?usp=sharing\n",
        "\n",
        "https://www.learnpython.org/en/String_Formatting\n",
        "\n",
        "# **EXERCISES**\n",
        "**1) Hello World!:** https://www.hackerrank.com/challenges/py-hello-world/problem\n",
        "\n",
        "**2) Syntax, Variables, and Numbers:** https://www.kaggle.com/kernels/fork/1275163\n",
        "\n",
        "**3)What's your name:** https://www.hackerrank.com/challenges/whats-your-name\n",
        "\n",
        "**4) Arithmetic Operators:**\n",
        "https://www.hackerrank.com/challenges/python-arithmetic-operators\n",
        "\n",
        "**5) Print Function:**\n",
        "https://www.hackerrank.com/challenges/python-print"
      ]
    },
    {
      "cell_type": "markdown",
      "metadata": {
        "id": "TSxVrBHvHB0D"
      },
      "source": [
        "For any general doubts, please email at - exun@dpsrkp.net\n",
        "\n",
        "\n",
        "For any session related doubts, please email\n",
        "\n",
        "Garv Jain - r22058garv@dpsrkp.net\n",
        "\n",
        "Aaahana Mehrotra - e10991aaahana@dpsrkp.net"
      ]
    }
  ]
}