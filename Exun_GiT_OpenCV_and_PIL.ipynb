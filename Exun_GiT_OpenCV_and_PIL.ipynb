{
  "nbformat": 4,
  "nbformat_minor": 0,
  "metadata": {
    "colab": {
      "name": "Exun GiT OpenCV and PIL.ipynb",
      "provenance": [],
      "collapsed_sections": [],
      "authorship_tag": "ABX9TyM2HOg8VT4sa0k9iVSx89zH",
      "include_colab_link": true
    },
    "kernelspec": {
      "name": "python3",
      "display_name": "Python 3"
    },
    "language_info": {
      "name": "python"
    }
  },
  "cells": [
    {
      "cell_type": "markdown",
      "metadata": {
        "id": "view-in-github",
        "colab_type": "text"
      },
      "source": [
        "<a href=\"https://colab.research.google.com/github/shubhaankargupta/image-editing-python/blob/main/Exun_GiT_OpenCV_and_PIL.ipynb\" target=\"_parent\"><img src=\"https://colab.research.google.com/assets/colab-badge.svg\" alt=\"Open In Colab\"/></a>"
      ]
    },
    {
      "cell_type": "markdown",
      "metadata": {
        "id": "36I6fwU9AudE"
      },
      "source": [
        "# **Exun Clan GiT**: Introduction to Image Editing with Python (OpenCV and PIL) 📸\n",
        "\n",
        "![logo.png](data:image/png;base64,iVBORw0KGgoAAAANSUhEUgAAAPAAAABaBAMAAAB0/MYpAAAAIVBMVEUoi/UoivUpi/X+//8chPSdyPrl8P5Yo/fG3/xzsvg2kfYlQYgKAAAAAnRSTlOdCLynsV0AAAMaSURBVGje7ZpPb9owFMBZP8E+QmW5DHGNCOmOVhBlV8rErrAG1GPJxnaGIrTjmk3djjRqp37K+dn5YzsJhQicSfM7vjj++fn5PT87qb1Glcir2kk14NMaqkgM2IAN2IAN2IANuBDs5ogW8CArH4gO8NjKiKMDjBdZsK1jqnG/SvD0NpH12hvbG13gj+KKbj7PtVh8R8HXkga51YA1JRADNmDN4LwM8vxCx1KCd0kpMH7vUQkFxU/Pm+DPVOlLDVeed0XYU+9m6KUyvf1OSlncgJS9lPcwHz9Qpa/uMC3C+7hX8n1QzsewZ7XSQV9Y1oSgxwy4z8Ez+kDd5VqkFBgYViAA7JDPg6++DACYCmu6TmQ1VlvuDG7Cq+140B1mMNidD4ZhfhMfvKGKy1JgNntWmM6oj7aA63k+GJWL456V6juR8Z1t4BsV3CalwEzvSAbngGccDM7flAGPiFTdkpjC/RQbvBVsZ8DnO4An80S+/hoMgqQ0gV6hhY+OA1bkMo5dFlG9pI8MGB0FzJJIm0CDAKH9fVwajCE67U1qsK6pRu8giYxSg49gsby4hoGQRByhh8P7eORmw4lKl09AkrIPP9UFFQh3Q7rNaAMLSeRIPi4CsyQyKbYYHctitrzsUL/FbFdO9zd9i+tRviDQBqYGO2NheenyMRi8nAkBpc3H1GBeiQR6p7oBD1hEtYlWixcskoBm+zp9DAaTaFu+1jjVcDxhlHpS9ekBX8SuZdvyUp+P45qW500WUT1xj1Tr6kOAMbcufrMbR1RXBYd3PK/V01PH7mD1gs110RNXB0L3rJsmZDEXC00XHFx0jHwR3EqvjIfD9crbiAZH27IfHYfngtxbReDFbuDsJWpfLADioyM/yal3zNEq2Bucc23s4IZ0ac1LID86yYmyZnHEwIF6C+6Q/S/Ku1T5VngPFo91TkfwRW5t/2EDYgOTjsPNnMvnXT4NnA2iA1RcbjI1DRj36YfY8HePqz8p7VETnpb4GIKFGpfNdfKJBMt1MOZqtT3v9V/9/GPABmzABmzABvw/g0+q4Z7Wqvoh9C+nM7P2IiQ26QAAAABJRU5ErkJggg==)"
      ]
    },
    {
      "cell_type": "markdown",
      "metadata": {
        "id": "0TAStApqrSWx"
      },
      "source": [
        "**How does image editing work?** Each image that we take is a sample of reality displayed on our two dimensional screens. Everyday, we use apps like Instagram, Google Photos, SnapChat, etc. which allow us to amend these images.\n",
        "\n",
        "Each image that we see is made up of small pixels on our screen. These pixels further comprise of a ratio of colors (Red, Green, and Blue simply called RGB) If this was hard to understand, you can think of it as a class (the image) which comprises of 15 sections (pixels) such that there are 3 students in each class (RGB). While editing an image, we edit the values of these pixels, or grade each and every student of this class"
      ]
    },
    {
      "cell_type": "markdown",
      "metadata": {
        "id": "X9hfND8Vg_wT"
      },
      "source": [
        "**What is OpenCV?**\n",
        "OpenCV is a free, open source tools which help us to change the values of these pixels. What such libraries do is that they go to each and every pixel in the image and change it. You can think of them as  teachers grading the students in a particular section of a class. \n",
        "Further, each of Red, Blue, Green in RGB can have any value between 0 and 255 - and combined, these values give us the final color displayed by that pixel. You can think of this as the grades each student in a class receives, such that the maximum marks in the report card are 255.\n",
        "\n",
        "**To sum it up:** \n",
        "\n",
        "Teacher 🧑‍🏫 --> OpenCV and PIL\n",
        "\n",
        "Class 🙋‍♂️🙋‍♂️🙋‍♂️ --> The image\n",
        "\n",
        "One student 🙋‍♂️ --> The pixel\n",
        "\n",
        "Subjects that the student has 📚📐🔬 --> RGB\n",
        "\n",
        "Marks that the student gets (report card) 📇 --> x/255, y/255, z/255 where x, y, and z represent Red, Blue, and Green respectively and can be any integer between 0 and 255 inclusive.\n",
        "\n",
        "**Some examples:**\n",
        "\n",
        "White ⬜ --> White is achieved when all RGB are in full capacity (the student gets full marks in all subjects). Hence, its RGB value is 255, 255, 255\n",
        "\n",
        "Black ⬛ --> Can you guess the value of black?\n",
        "\n",
        "Red 🟥 --> Red will be achieved when green and blue are absent. Hence, its RGB value is 255, 0, 0.\n",
        "\n",
        "Green 🟩 --> Similarly, Green will be achieved when Red and blue are absent. Can you guess the value of green?\n",
        "\n",
        "Blue 🟦 --> Can you guess the value of blue?\n",
        "\n",
        "Purple 🟪 --> Purple is a complex color which contains all the RGB values in an RGB ratio 216,191,216. However, you are not expected to memorize the codes for complex colors. Many other complex colors include yellow, orange, grey, brown, violet, cyan, dark green, sky blue etc.\n",
        "\n",
        "While converting the image to grayscale, for example, the RGB values of a pixel change in a way so as to reach a configuration where they resemble gray.\n",
        "\n",
        "**Why is it so important to learn image editing on Python?**\n",
        "1.   It allows you to create and implement filters on your own.\n",
        "2.   You can choose what filter you want to use and its strength.\n",
        "3.   It is extremely fast, easy to use, and does not reduce the quality of      images\n",
        "4.   It is made by you :)\n",
        "\n",
        "**Now that we've understood how image editing works, let's implement it in real time!**\n"
      ]
    },
    {
      "cell_type": "markdown",
      "metadata": {
        "id": "nWK_LdYMcNt_"
      },
      "source": [
        "Importing all the libraries/helpers to assist us"
      ]
    },
    {
      "cell_type": "code",
      "metadata": {
        "id": "zZqYgC4hO9Zv"
      },
      "source": [
        "import cv2\n",
        "from google.colab import files\n",
        "from google.colab.patches import cv2_imshow\n",
        "import matplotlib.pyplot as plt\n",
        "%matplotlib inline\n",
        "from skimage.color import rgb2gray"
      ],
      "execution_count": null,
      "outputs": []
    },
    {
      "cell_type": "markdown",
      "metadata": {
        "id": "a1tV4-OMQdXH"
      },
      "source": [
        "Here, we will download the image which we want to edit. If you want to use your own image, you can upload it on drive and copy its link!\n",
        "\n"
      ]
    },
    {
      "cell_type": "code",
      "metadata": {
        "id": "9A1HKDL26lZm"
      },
      "source": [
        "!wget https://heremag-prod-app-deps-s3heremagassets-bfie27mzpk03.s3.amazonaws.com/wp-content/uploads/2020/09/11112914/la-digue-seychelles-christian-cacciamani-jPmurJKSL_0-unsplash-1200x900.jpg"
      ],
      "execution_count": null,
      "outputs": []
    },
    {
      "cell_type": "code",
      "metadata": {
        "id": "4rvDFIpTPTDe"
      },
      "source": [
        "imgpath = \"/content/la-digue-seychelles-christian-cacciamani-jPmurJKSL_0-unsplash-1200x900.jpg\"\n",
        "img = cv2.imread(imgpath)\n",
        "\n",
        "width = int(500)\n",
        "height = int(450)\n",
        "dim = (width, height)\n",
        "  \n",
        "# resize image\n",
        "image = cv2.resize(img, dim, interpolation = cv2.INTER_AREA)\n",
        "cv2_imshow(image)"
      ],
      "execution_count": null,
      "outputs": []
    },
    {
      "cell_type": "markdown",
      "metadata": {
        "id": "xrOPU6mJPpaw"
      },
      "source": [
        "**Converting Image to Grayscale**"
      ]
    },
    {
      "cell_type": "code",
      "metadata": {
        "id": "fq-tTeUiPo-C"
      },
      "source": [
        "grayscale = cv2.cvtColor(image, cv2.COLOR_BGR2GRAY)\n",
        "cv2_imshow(grayscale)"
      ],
      "execution_count": null,
      "outputs": []
    },
    {
      "cell_type": "markdown",
      "metadata": {
        "id": "Q2vxE9x9UwuU"
      },
      "source": [
        "**Blurring Image**: Try playing around with the number '2' to increase/decrease the blur"
      ]
    },
    {
      "cell_type": "code",
      "metadata": {
        "id": "A-zhpaBZSpiS"
      },
      "source": [
        "blurred = cv2.blur(image,(8,8))\n",
        "cv2_imshow(blurred)"
      ],
      "execution_count": null,
      "outputs": []
    },
    {
      "cell_type": "markdown",
      "metadata": {
        "id": "93Hge7yNQ8EB"
      },
      "source": [
        "**Changing brightness and contrast**: Try playing around with the number '1.6' to increase/decrease the blur"
      ]
    },
    {
      "cell_type": "code",
      "metadata": {
        "id": "dud7Jq9iV6Ec"
      },
      "source": [
        "alpha = 1.7 # Contrast control (1.0-3.0)\n",
        "beta = 10 # Brightness control (0-100)\n",
        "\n",
        "contrasted = cv2.convertScaleAbs(image, alpha=alpha, beta=beta)\n",
        "cv2_imshow(contrasted)"
      ],
      "execution_count": null,
      "outputs": []
    },
    {
      "cell_type": "markdown",
      "metadata": {
        "id": "k8jmkYlBREjR"
      },
      "source": [
        "**Inverting color**: If you can recall, each pixel has an RGB value. By inverting this value, we are assigning each and every pixel the opposite value of it originally had."
      ]
    },
    {
      "cell_type": "code",
      "metadata": {
        "id": "tDF4wArdjfoL"
      },
      "source": [
        "inverted = cv2.bitwise_not(image)\n",
        "cv2_imshow(inverted)"
      ],
      "execution_count": null,
      "outputs": []
    },
    {
      "cell_type": "markdown",
      "metadata": {
        "id": "9l6dNY21jaAz"
      },
      "source": [
        "Can you guess what would happen if you invert the colors of an already inverted image? [Hint: Run the cell below]"
      ]
    },
    {
      "cell_type": "code",
      "metadata": {
        "id": "nGyOfCjm1eEn"
      },
      "source": [
        "guess = cv2.bitwise_not(inverted)\n",
        "cv2_imshow(guess)"
      ],
      "execution_count": null,
      "outputs": []
    },
    {
      "cell_type": "markdown",
      "metadata": {
        "id": "PTM-XHFQRTqw"
      },
      "source": [
        "**Edge Highlighting and sketching**"
      ]
    },
    {
      "cell_type": "code",
      "metadata": {
        "id": "oXEfcYemc2cb"
      },
      "source": [
        "gray = cv2.cvtColor(image, cv2.COLOR_BGR2GRAY)\n",
        "  \n",
        "edged = cv2.Canny(gray, 70, 400)\n",
        "\n",
        "contours, hierarchy = cv2.findContours(edged, \n",
        "    cv2.RETR_EXTERNAL, cv2.CHAIN_APPROX_NONE)\n",
        "  \n",
        "cv2_imshow(edged)\n",
        "\n",
        "cv2.drawContours(image, contours, -1, (0, 255, 0), 3)\n",
        "cv2_imshow(image)"
      ],
      "execution_count": null,
      "outputs": []
    },
    {
      "cell_type": "markdown",
      "metadata": {
        "id": "v9UplhttTbKD"
      },
      "source": [
        "**How can we give the black and white image a white background and black lines?**"
      ]
    },
    {
      "cell_type": "code",
      "metadata": {
        "id": "qtY0DJDgRXjs"
      },
      "source": [
        "img_sketch_in_white = cv2.bitwise_not(edged)\n",
        "cv2_imshow(img_sketch_in_white)"
      ],
      "execution_count": null,
      "outputs": []
    },
    {
      "cell_type": "markdown",
      "metadata": {
        "id": "r1SpJEmHjcMG"
      },
      "source": [
        "**Animator:**\n",
        "Convert a real image into an animation!. Here, we'll be using an example from Spiderman: Far From Home and convert it into a comical image"
      ]
    },
    {
      "cell_type": "code",
      "metadata": {
        "id": "uIBqFqOOkg8J"
      },
      "source": [
        "from sklearn.cluster import KMeans\n",
        "pic = plt.imread(\"/content/la-digue-seychelles-christian-cacciamani-jPmurJKSL_0-unsplash-1200x900.jpg\")/255\n",
        "plt.imshow(pic)\n",
        "pic_n = pic.reshape(pic.shape[0]*pic.shape[1], pic.shape[2])\n",
        "kmeans = KMeans(n_clusters=5, random_state=0).fit(pic_n)\n",
        "pic2show = kmeans.cluster_centers_[kmeans.labels_]\n",
        "cluster_pic = pic2show.reshape(pic.shape[0], pic.shape[1], pic.shape[2])\n",
        "plt.imshow(cluster_pic)\n",
        "plt.axis('off')"
      ],
      "execution_count": null,
      "outputs": []
    },
    {
      "cell_type": "markdown",
      "metadata": {
        "id": "pTqdeUODks56"
      },
      "source": [
        "# 🎊 CONGRATS! YOU'RE A PRO NOW. \n",
        "Use the skills you have gained in this session and implement them in real life. Edit your photos using python and upload them on social media - help the people around you by editing their images. Remember- no software can produce an image of the quality you can now!"
      ]
    }
  ]
}