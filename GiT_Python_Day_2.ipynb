{
  "nbformat": 4,
  "nbformat_minor": 0,
  "metadata": {
    "colab": {
      "name": "GiT Python Day 2.ipynb",
      "provenance": [],
      "collapsed_sections": [],
      "include_colab_link": true
    },
    "kernelspec": {
      "name": "python3",
      "display_name": "Python 3"
    }
  },
  "cells": [
    {
      "cell_type": "markdown",
      "metadata": {
        "id": "view-in-github",
        "colab_type": "text"
      },
      "source": [
        "<a href=\"https://colab.research.google.com/github/shubhaankargupta/image-editing-python/blob/main/GiT_Python_Day_2.ipynb\" target=\"_parent\"><img src=\"https://colab.research.google.com/assets/colab-badge.svg\" alt=\"Open In Colab\"/></a>"
      ]
    },
    {
      "cell_type": "markdown",
      "metadata": {
        "id": "5DQf-2BmhYFY"
      },
      "source": [
        "# 10. Elements of Flow Control\n",
        "Flow control statements often start with a part called the condition and are always followed by a block of code called the clause.\n",
        "\n",
        "Lines of Python code can be grouped together in blocks. You can tell when a block begins and ends from the indentation of the lines of code. There are three rules for blocks.\n",
        "\n",
        "1) Blocks begin when the indentation increases.\n",
        "\n",
        "2) Blocks can contain other blocks.\n",
        "\n",
        "3) Blocks end when the indentation decreases to zero or to a containing block’s indentation."
      ]
    },
    {
      "cell_type": "markdown",
      "metadata": {
        "id": "38Jx1-wlshQY"
      },
      "source": [
        "# 11. Conditionals\n",
        "\n"
      ]
    },
    {
      "cell_type": "markdown",
      "metadata": {
        "id": "N0iZS9dBC8k2"
      },
      "source": [
        "\n",
        "\n",
        "In all the programs above, we have a fixed order in which things will happen. For instance, with our judge scores above, we know that we will be taking in input from 3 judges, calculating the average and printing it out.\n",
        "\n",
        "However, we might want to specify some alternative ways in which a program could run. In plain English, this means something like:\n",
        "\n",
        "\"if something is the case, execute the program in one particular way; otherwise do it another way\"\n",
        "\n",
        "We can achieve this in Python by using **Boolean** variables. A Boolean is another type of variable that can take on just two values: `True` and `False`.  "
      ]
    },
    {
      "cell_type": "code",
      "metadata": {
        "id": "I31ZNrO0HJ5s",
        "colab": {
          "base_uri": "https://localhost:8080/"
        },
        "outputId": "bc90ec30-cd41-4f7e-fb30-c0454f952d5f"
      },
      "source": [
        "# Suppose we are approaching a green light\n",
        "green_light = False\n",
        "\n",
        "if green_light: \n",
        "  print(\"Good to go!\")\n",
        "else: \n",
        "  print(\"Don't go yet...\")"
      ],
      "execution_count": null,
      "outputs": [
        {
          "output_type": "stream",
          "text": [
            "Don't go yet...\n"
          ],
          "name": "stdout"
        }
      ]
    },
    {
      "cell_type": "markdown",
      "metadata": {
        "id": "CqQMCBj2HV1A"
      },
      "source": [
        "Notice above that each `print()` statement above is indented and preceded by one of two lines:\n",
        "\n",
        "```\n",
        "if green_light:\n",
        "  ...\n",
        "```\n",
        "or\n",
        "```\n",
        "else:\n",
        "  ...\n",
        "```\n",
        "\n",
        "When you write `if`, Python checks to see whether the variable or expression after it evaluates to `True`. If it does, then the indented code after it will execute, and Python will skip the indented code after the `else`. If it evaluates to `False`, then the indented code after the `if` statement is skipped, and the indented code after `else` will execute. The examples above show both of these in action.\n",
        "\n",
        "Note that when using `if` and `else` statements, you need to end each of these lines with a colon (`:` ) and indent the subsequent code with a tab. Indentations is highly important when writing conditionals"
      ]
    },
    {
      "cell_type": "code",
      "metadata": {
        "id": "cBLughVGoWQl"
      },
      "source": [
        "test_string = \"hello\"\n",
        "\n",
        "# Will anything be printed here?\n",
        "if test_string == \"pink\":\n",
        "  print(\"The test string is pink\")"
      ],
      "execution_count": null,
      "outputs": []
    },
    {
      "cell_type": "markdown",
      "metadata": {
        "id": "YJxyjt9Lv5C4"
      },
      "source": [
        "Here, since we didn't specify an alternative output to print out, nothing gets printed. It's fine not to have an `else` statement if you don't want it!"
      ]
    },
    {
      "cell_type": "markdown",
      "metadata": {
        "id": "VsKKs9L1qa-U"
      },
      "source": [
        "## Controlling the traffic lights"
      ]
    },
    {
      "cell_type": "markdown",
      "metadata": {
        "id": "rLLB9mKwrMIQ"
      },
      "source": [
        "Remember the self-driving car example from before? It was pretty good, but we want to make it better. There, we only specified whether or not a light was green, but there are actually two alternatives for when a light is not green: it could be red or yellow.\n",
        "\n",
        "This time, we're going to let a user input what colour they want the traffic light to be. Then we'll tell the Tesla what it needs to do depending on the colour of the light that was entered."
      ]
    },
    {
      "cell_type": "code",
      "metadata": {
        "id": "SQ2uiLJkspI8"
      },
      "source": [
        "# Get user input about the traffic light colour\n",
        "light = input(\"What colour is the traffic light? \")\n",
        "\n",
        "# Don't worry about this line; it's just formatting the string so that there's no extra whitespace at the ends and it's all in lower case\n",
        "light = light.lower().strip() #.lower() converts to lowercase and .strip() then removes the whitespace. \n",
        "\n",
        "# Tell the car what it needs to do based on the colour of the light\n",
        "if light == \"red\": \n",
        "  print(\"Don't go yet... \")\n",
        "elif light == \"yellow\":\n",
        "  print(\"Get ready to go... \")\n",
        "elif light == \"green\":\n",
        "  print(\"Good to go!\")\n",
        "else:\n",
        "  print(\"Huh?\")"
      ],
      "execution_count": null,
      "outputs": []
    },
    {
      "cell_type": "markdown",
      "metadata": {
        "id": "lkOmgMeLv3Hd"
      },
      "source": [
        "This example is a little more involved than before. There are two main things to notice here:\n",
        "\n",
        "\n",
        "1.   The above program uses the word `elif`. This is useful if you have multiple conditions you want to check. `if`/`else` on their own is fine if there's just one condition you want to check, but here we're seeing if the light is red, yellow or green.\n",
        "2.   The final `else` statement might seem unnecessary, but we've included it in case the user enters something other than red, yellow or green. If Tesla saw a purple light, it might be confused!\n",
        "\n"
      ]
    },
    {
      "cell_type": "markdown",
      "metadata": {
        "id": "-Kg-TBkI0mS-"
      },
      "source": [
        "# 12. Loops\n",
        "\n",
        "Recall that an `if` statement allows you to do something UNLESS a condition is `False`. If the condition is `False`, nothing is executed. What if we want to do something UNTIL a condition becomes `False`?  This is exactly what loops are for: to execute a particular task repeatedly until some condition no longer holds `True`. \n",
        "\n",
        "Let us take a look at an examples"
      ]
    },
    {
      "cell_type": "code",
      "metadata": {
        "id": "B8WjWq__BdFa",
        "colab": {
          "base_uri": "https://localhost:8080/"
        },
        "outputId": "3653befd-d654-4b56-d8c8-559bb4533494"
      },
      "source": [
        "multiplicands = (2,3,5)\n",
        "product = 1\n",
        "for i in multiplicands:\n",
        "  product = product*i\n",
        "product"
      ],
      "execution_count": null,
      "outputs": [
        {
          "output_type": "execute_result",
          "data": {
            "text/plain": [
              "30"
            ]
          },
          "metadata": {
            "tags": []
          },
          "execution_count": 4
        }
      ]
    },
    {
      "cell_type": "markdown",
      "metadata": {
        "id": "srLwyhk9Djkh"
      },
      "source": [
        "## For loops\n",
        "\n",
        "A while loop works well when we don't know in advance how many times we will have to do something. But what if we know exactly how many times you'll have to do something?\n",
        "\n",
        "We can use a `for` loop! Here's an example of what it looks like. \n",
        "\n"
      ]
    },
    {
      "cell_type": "markdown",
      "metadata": {
        "id": "2aYA1T5hHZZV"
      },
      "source": [
        "A `for` loop consists of three main things: \n",
        "*   You say \"`for i in range`\". It is not always necessary to use the variable `i`, anything else could also work. You could use `j`,`z`,`m`,etc. You could also say `for i in string1` where `string1` is a variable with a string in it. What this will do is that it will iterate through each character/word in `String1` and will perform a specific function.\n",
        "*  An integer in parentheses, which is the number of times you want to do something\n",
        "* After this, we have to put a colon `:`\n",
        "*  The indented code, called body, which will execute repeatedly"
      ]
    },
    {
      "cell_type": "code",
      "metadata": {
        "id": "sM-5C8kHBzHn"
      },
      "source": [
        "lowerCount = 0\n",
        "upperCount = 0\n",
        "str1 = '''\n",
        "Be Good Do Good\n",
        "Welcome 2 all brothers and sisters\n",
        "Thank you 2 all brothers and sisters\n",
        "'''\n",
        "for i in str1:\n",
        "     if (i.islower()):\n",
        "         lowerCount = lowerCount + 1\n",
        "     if (i.isupper()):\n",
        "         upperCount = upperCount + 1\n",
        "print(\"No.of uppercase: \",upperCount)\n",
        "print(\"No.of lowercase: \",lowerCount)"
      ],
      "execution_count": null,
      "outputs": []
    },
    {
      "cell_type": "markdown",
      "metadata": {
        "id": "V4oGzvQS05Gu"
      },
      "source": [
        "## While loops: A personalized Self-Driving Car\n",
        "\n",
        "Let's explore this with an example. Let’s go back to our self-driving Tesla, but this time, let's personalize it. Suppose that our Tesla (let's call it *Jarvis*), only starts when the user summons it with a command, say \"*Jarvis, energize!*\". If we don’t enter that command, the car doesn’t start. We know this can be programmed with a simple `if` condition, like so:  "
      ]
    },
    {
      "cell_type": "code",
      "metadata": {
        "id": "7pWsULq03k9d"
      },
      "source": [
        "# Define the predetermined summon in a variable\n",
        "summon = \"Jarvis, energize!\"\n",
        "\n",
        "command = input(\"What’s your command? \")\n",
        "\n",
        "# Tell the car what to do based on the correctness of the command\n",
        "if command == summon:\n",
        "  print(\"Your wish is my command!\")\n",
        "else: \n",
        "  print(\"Sorry, I don’t understand.\")"
      ],
      "execution_count": null,
      "outputs": []
    },
    {
      "cell_type": "code",
      "metadata": {
        "id": "OI5jHY3q4p6M",
        "colab": {
          "base_uri": "https://localhost:8080/"
        },
        "outputId": "4fe3c46a-ee99-404b-9da2-cd2d78e30ed3"
      },
      "source": [
        "# Define the predetermined summon in a variable\n",
        "summon = \"Jarvis, energize!\"\n",
        "\n",
        "# Ask the user for the command\n",
        "command = input(\"What’s your command? \")\n",
        "\n",
        "# While the command isn't the summon we're looking for... then execute the indented block\n",
        "while command != summon: \n",
        "  print(\"Sorry, I don't understand.\") \n",
        "  command = input(\"What's your command? \")\n",
        "  \n",
        "# This line of code will only execute when the loop is finished, i.e., when command is same as the predetermined summon\n",
        "# Note - This line is NOT indented like the statements inside the while-loop. This means it is not a part of the while loop.\n",
        "print(\"Your wish is my command!\")"
      ],
      "execution_count": null,
      "outputs": [
        {
          "output_type": "stream",
          "text": [
            "What’s your command? Jarvis\n",
            "Sorry, I don't understand.\n",
            "What's your command? Jarvis, energize!\n",
            "Your wish is my command!\n"
          ],
          "name": "stdout"
        }
      ]
    },
    {
      "cell_type": "markdown",
      "metadata": {
        "id": "_mr0HZ516N73"
      },
      "source": [
        "In simple English, the `while` loop can be translated as: \"Until `command` is not the same as `summon`, ask user for input.\"\n",
        "\n",
        "Here's what a `while` loop looks like: \n",
        "```\n",
        "while condition\n",
        "  ... do something ... \n",
        " ```\n",
        "It looks a lot like an `if` statement. The only difference is the word \"while\" in place of the word \"if\". The condition still has to be something that evaluates to a boolean. The code under the `while` loop is the body. If the condition is `True`, it executes. \n",
        "\n",
        "EVERY TIME it executes, the condition is checked again. Unless the condition has become `False`, the body runs again."
      ]
    },
    {
      "cell_type": "markdown",
      "metadata": {
        "id": "hw_tTwE7-wRp"
      },
      "source": [
        "## Try it out:  Free tickets for the IPL \n",
        "\n",
        "You just landed 20 tickets for the IPL finals and generously want to give it away. With your recently acquired programming chops, you decide to write a program that keeps track of the tickets you have left. While there are still tickets left with you, ask the user how many tickets they would like to buy. Then print out how many are left with you after the purchase.\n",
        " \n",
        "Bonus points if your program can catch the case where your user tries to buy more tickets than you have left with you. In that case, you should print a message to the User saying that their request isn’t possible. \n",
        "\n",
        "Here's an example of what one run of the program might appear like: \n",
        "\n",
        "```\n",
        "I'm giving away free tickets for the IPL Anybody interested?. \n",
        "\n",
        "How many do you need? 5 \n",
        "Great! I have 15 tickets left. \n",
        "\n",
        "How many do you need? 17\n",
        "Sorry, I don't have that many. \n",
        "\n",
        "How many tickets do you need? 15\n",
        "Great! I have 0 tickets left. \n",
        "\n",
        "All sold out!\n",
        "```\n"
      ]
    },
    {
      "cell_type": "markdown",
      "metadata": {
        "id": "PuSx33yMuHXc"
      },
      "source": [
        "Hints:\n",
        "\n",
        "\n",
        "* You can set a `while` loop header condition to *anything* that evaluates to a Boolean. In this case, we want to make sure that there are still tickets left. This means that we'll want to compare the ticket count to something. What will this comparison look like?\n",
        "* Suppose that you store the number of tickets that someone requests in a variable called `tickets`. Then after that value is stored, you can subtract it from `tickets_left` to figure out the new number of remaining tickets. This updated value will then get checked again in the next run of the while loop."
      ]
    },
    {
      "cell_type": "markdown",
      "metadata": {
        "id": "Y4SjoSCit3Tk"
      },
      "source": [
        "### Enter your code below"
      ]
    },
    {
      "cell_type": "code",
      "metadata": {
        "id": "SdAMVtvreaur"
      },
      "source": [
        "# Complete the IPL ticket-giveaway program. \n",
        "\n"
      ],
      "execution_count": null,
      "outputs": []
    },
    {
      "cell_type": "markdown",
      "metadata": {
        "id": "87_LZVcq1TeU"
      },
      "source": [
        "# 13. Lists\n",
        "\n",
        "\n",
        "Another common data type is lists.  You can think of lists as storing multiple variables, or a collection of variables, in one place.  It's also important to note that the variables are in a particular order and are each assigned an index in the list. "
      ]
    },
    {
      "cell_type": "code",
      "metadata": {
        "id": "higKQZtE2DAY"
      },
      "source": [
        "# Let's create a grocery list for when we go to the store\n",
        "groceries = []\n",
        "groceries.append('apples')\n",
        "groceries.append('milk')\n",
        "groceries.append('bread')\n",
        "groceries.append('cheese')\n",
        "\n",
        "for item in groceries:\n",
        "  print('You have ' + item + ' in your bag!')\n"
      ],
      "execution_count": null,
      "outputs": []
    },
    {
      "cell_type": "markdown",
      "metadata": {
        "id": "6sRqp6-ty_ZA"
      },
      "source": [
        "## Try it out: Best Foot Forward\n",
        "You’re applying to Stanford and you realize you want to submit only the best score from all your attempts at the SAT. The scores from all the attempts is stored in a list, called `scores`. Write a program that traverses the list and then prints the highest score from the list. \n",
        "\n",
        "**Note**: Do not use the built-in function `max` in your program!"
      ]
    },
    {
      "cell_type": "code",
      "metadata": {
        "id": "YdtnOAaPy-x7"
      },
      "source": [
        "# Complete this program to find and print the highest score from the list\n",
        "\n"
      ],
      "execution_count": null,
      "outputs": []
    },
    {
      "cell_type": "markdown",
      "metadata": {
        "id": "Z3fkjPLaqsHg"
      },
      "source": [
        "# 14. Functions\n",
        "\n",
        "A Python function is similar to how we think of functions in math. You've actually already made use of functions earlier-- `range`, `input` and `append` are all examples of functions. You can think of these as pre-defined functions in Python that can be called for various uses. Now, you'll learn how to make your own functions.\n",
        "\n",
        "Let's say you're building a chatbot, Jarvis, which needs to greet the user every time it's summoned, like:"
      ]
    },
    {
      "cell_type": "code",
      "metadata": {
        "id": "OHKWTDRRBZRA"
      },
      "source": [
        "print(\"Hi!\")\n",
        "print(\"Allow me to introduce myself. I'm Jarvis, and I can call and message people for you. I can also share a joke or two.\")\n",
        "print(\"What can I help you with?\")"
      ],
      "execution_count": null,
      "outputs": []
    },
    {
      "cell_type": "markdown",
      "metadata": {
        "id": "3XpSjoulDNzk"
      },
      "source": [
        "Every time a user summons Jarvis, we call these three lines of code. Even if Jarvis is summoned 3-4 times, that's a lot of lines of code required. Instead, we can assign these lines of code to a `function`. We'll call the function `greeting`, and define it in the following way. \n",
        "\n",
        "Every function you define: \n",
        "1) Contains the word `def`, the name of your function,\n",
        "\n",
        "2) A pair of parentheses `()`, and a colon `:`\n",
        "\n",
        "3) Followed by some code underneath. \n",
        "\n",
        "When we define a function, nothing actually happens in the console. We get an output only when we call a functions.\n",
        "\n",
        "Try this:"
      ]
    },
    {
      "cell_type": "code",
      "metadata": {
        "id": "fSI9u8E3FmkD"
      },
      "source": [
        "def greeting(): \n",
        "  print(\"Hi!\")\n",
        "  print(\"Allow me to introduce myself. I'm Jarvis, and I can call and mesage people for you. I can also share a joke or two.\")\n",
        "  print(\"What can I help you with?\") "
      ],
      "execution_count": null,
      "outputs": []
    },
    {
      "cell_type": "markdown",
      "metadata": {
        "id": "_5SX8EKeGKYK"
      },
      "source": [
        "At this point, we have merely taught Jarvis how to print a greeting. Now we have to tell Jarvis to actually do it, and we do this by calling the function, like so:"
      ]
    },
    {
      "cell_type": "code",
      "metadata": {
        "id": "2UuaZo-qGVGd"
      },
      "source": [
        "greeting()"
      ],
      "execution_count": null,
      "outputs": []
    },
    {
      "cell_type": "markdown",
      "metadata": {
        "id": "XQBUr90cHHVq"
      },
      "source": [
        "Each time we call it, the code in the function gets executed. This is part of why functions are valuable. They allow us to save some code for later, and then use and re-use it without typing it out each time.\n",
        "\n",
        "## Variable Scope in Functions\n",
        "\n",
        "For the purpose of exploring functions further, let's use a shorter greeting and add the user's name to it. Then we can declare a variable with the name, like we normally would."
      ]
    },
    {
      "cell_type": "markdown",
      "metadata": {
        "id": "Kc7Dixf6IlNq"
      },
      "source": [
        "But watch out, if you do this, the variable `name` is only available within the function. If you try to use `name` outside the function, it causes an error. \n",
        "\n",
        "The variable `name` in this code is a local variable.\n",
        "\n",
        "Do you see an error when you run this program?"
      ]
    },
    {
      "cell_type": "code",
      "metadata": {
        "id": "zGYZE7YQ-au4"
      },
      "source": [
        "def greeting(): \n",
        "  name = \"Arya\"\n",
        "  print(\"Hi \" + name + \"!\")  \n",
        "  \n",
        "greeting()\n",
        "print(name)"
      ],
      "execution_count": null,
      "outputs": []
    },
    {
      "cell_type": "markdown",
      "metadata": {
        "id": "2qYfeoApJMxm"
      },
      "source": [
        "But here's where Python gets a little funky. If you declare the variable OUTSIDE a function, you can still access it INSIDE the function. The variable `name` in this code is a global variable.\n",
        "\n",
        "Take a look at this:\n"
      ]
    },
    {
      "cell_type": "code",
      "metadata": {
        "id": "bC-BRSDBItU8"
      },
      "source": [
        "name = \"Arya\"\n",
        "\n",
        "def greeting(): \n",
        "  print(\"Hi \" + name + \"!\")\n",
        "  \n",
        "greeting()\n",
        "print(name)"
      ],
      "execution_count": null,
      "outputs": []
    },
    {
      "cell_type": "markdown",
      "metadata": {
        "id": "tfpyxxy4JgGV"
      },
      "source": [
        "Here's another place where Python gets REALLY funky. If a variable is declared outside a function, and you try to CHANGE it inside the function, you actually create ANOTHER variable of the same name! In this example, there are two variables called `name`. One of them lives inside `greeting`, and the other lives outside of it. Run this code and see what happens."
      ]
    },
    {
      "cell_type": "code",
      "metadata": {
        "id": "pHDPFzZPJY7O",
        "colab": {
          "base_uri": "https://localhost:8080/"
        },
        "outputId": "262b7f43-95ca-4f64-9c64-1eed77d62b6d"
      },
      "source": [
        "name = \"Arya\"\n",
        "\n",
        "def greeting():\n",
        "  name = \"Alex\"\n",
        "  print(\"Hi \" + name + \"!\")\n",
        "  \n",
        "greeting()  # This print statement will refer to the version of name inside greeting()\n",
        "print(name) # This print statement will refer to the version of name on the first line"
      ],
      "execution_count": null,
      "outputs": [
        {
          "output_type": "stream",
          "text": [
            "Hi Alex!\n",
            "Arya\n"
          ],
          "name": "stdout"
        }
      ]
    },
    {
      "cell_type": "markdown",
      "metadata": {
        "id": "BITv9AWDL8Z_"
      },
      "source": [
        "## Functions with Parameters\n",
        "\n",
        "As it stands now, functions are pretty limited; they always do the same thing. The function `greeting` always greets Arya.\n",
        "\n",
        "We can make a function behave differently by re-assigning the variable `name` each time, but that would be annoying. Fortunately, there's a better way to do this, and it exists in the form of **parameters**, which are pieces of information you can give the function when you call them. \n",
        "\n",
        "A parameter is basically a variable name. You put the variable name in the function's parentheses, and you can then use the name in the function as though it were a variable you declared. You can also write in more than 1 parameter"
      ]
    },
    {
      "cell_type": "code",
      "metadata": {
        "id": "CjtVvXorPl8n"
      },
      "source": [
        "# Function definition includes two parameters for name and temp\n",
        "def greeting(name, temp): \n",
        "  print(\"Hi \" + name + \"!\")\n",
        "  print(\"It's \" + str(temp) + \" degree celsius today.\")"
      ],
      "execution_count": null,
      "outputs": []
    },
    {
      "cell_type": "markdown",
      "metadata": {
        "id": "FtFb-88eOwdK"
      },
      "source": [
        "But where does this variable get its value from?\n",
        "\n",
        "You actually give the variable a value when you call the function, like the following lines of code. Give it a whirl, what do you get?\n"
      ]
    },
    {
      "cell_type": "code",
      "metadata": {
        "id": "hmSm7QnhO8gb"
      },
      "source": [
        "# While calling the function, we provide the values for BOTH parameters\n",
        "greeting(\"Arya\", 21)\n",
        "greeting(\"Alex\", 37)"
      ],
      "execution_count": null,
      "outputs": []
    },
    {
      "cell_type": "markdown",
      "metadata": {
        "id": "Kl6SojLhd0LU"
      },
      "source": [
        "## HOMEWORK: Can you predict what Dory sings?\n",
        "\n",
        "*Finding Dory* is an amazing film! Dory, the friendly but forgetful blue tang fish, often sings a song to herself and her friends to keep motivation high when they are feeling lost. The following program prints out what Dory sings. **Without running the program, can you predict its output?** "
      ]
    },
    {
      "cell_type": "code",
      "metadata": {
        "id": "euCyitMOZEpL"
      },
      "source": [
        "# Don't run this program just yet -- try to predict the output!\n",
        "\n",
        "def sing_song(friend, quote):\n",
        "  song = \"I sing for \" + friend + \": \"\n",
        "  for i in range(3): \n",
        "    song = song + quote\n",
        "  return song\n",
        "\n",
        "def sing_for_all(quote): \n",
        "  friends = [\"Nemo\", \"Marlin\", \"Destiny\"]\n",
        "  song = \"\"\n",
        "  for friend in friends: \n",
        "    print(song + sing_song(friend, quote))\n",
        "    \n",
        "sing_for_all(\"Just keep swimming. \")"
      ],
      "execution_count": null,
      "outputs": []
    },
    {
      "cell_type": "markdown",
      "metadata": {
        "id": "BkmSWh9Lh1ju"
      },
      "source": [
        "Now run the program and compare your solution to the output. How did you do? :)"
      ]
    },
    {
      "cell_type": "markdown",
      "metadata": {
        "id": "rBCUCuQUma7X"
      },
      "source": [
        "## Try it out: Turn up the temperature\n",
        "\n",
        "You're probably used to reading the temperature in Celsius units. Unfortunately, your soon-to-be friends from Stanford don't understand Celsius; they are only used to Farenheit. To make any discussion about weather easier with them, write a program that helps you convert the temperature between the Celsius and Farenheit: \n",
        "\n",
        "1.   Write a function called `c_to_f` that takes an input `c_temp`, a temperature in Celsius, and converts it to `f_temp`, that temperature in Fahrenheit. It should then return `f_temp`. The equation you should use is: \n",
        "\n",
        "> > > > $F = (1.8 * C) + 32$\n",
        "\n",
        "\n",
        "2.   Let’s test your function with a value of 0 Celsius. Print out your output.\n",
        "\n"
      ]
    },
    {
      "cell_type": "code",
      "metadata": {
        "id": "DycsOkuspAXe"
      },
      "source": [
        "# Define your function here\n",
        "\n",
        "\n",
        "# Call your function and print output here\n",
        "\n"
      ],
      "execution_count": null,
      "outputs": []
    },
    {
      "cell_type": "markdown",
      "metadata": {
        "id": "erdiMaacuYLr"
      },
      "source": [
        "# CONGRATULATIONS!\n",
        "Well done for finishing this notebook! If you have any remaining questions, be sure to ask them."
      ]
    },
    {
      "cell_type": "markdown",
      "metadata": {
        "id": "lAzE-QbSa8HC"
      },
      "source": [
        "If you want to learn more and practice more, these are some links and exercises that we think would be very useful to you.\n",
        "\n",
        "**Dictionaries:**\n",
        "https://colab.research.google.com/drive/1dq_LN_8R6Nc1WYkioK-bpXiqrmszKOYz?usp=sharing\n",
        "\n",
        "**Kaggle Python Course:**\n",
        "https://www.kaggle.com/learn/python\n",
        "\n",
        "**List Comprehensions:**\n",
        "https://www.kaggle.com/colinmorris/loops-and-list-comprehensions\n",
        "\n",
        "**Lists:** \n",
        "https://docs.google.com/document/d/1WN-IiY76ELHzqHfvFpPQkRf5DtFjwwa6HJso29rXCu4/edit?usp=sharing\n",
        "\n",
        "**Tuples:**\n",
        "https://docs.google.com/document/d/14jQLuV-EvIaMiJG_EINjhx-mtCIHyQ3SCF2umh3js6U/edit?usp=sharing\n",
        "\n",
        "# **Exercises:**\n",
        "\n",
        "**1) If-Else:**\n",
        "https://www.hackerrank.com/challenges/py-if-else/problem\n",
        "\n",
        "**2) Booleans and Conditionals:**\n",
        "https://www.kaggle.com/kernels/fork/1275165\n",
        "\n",
        "**3) Loops:**\n",
        "https://www.hackerrank.com/challenges/python-loops\n",
        "\n",
        "**4) Lists:**\n",
        "https://www.kaggle.com/kernels/fork/1275173\n",
        "https://www.hackerrank.com/challenges/python-lists\n",
        "https://www.hackerrank.com/challenges/nested-list\n",
        "\n",
        "**5) List Compehensions:**\n",
        "https://www.kaggle.com/kernels/fork/1275177\n",
        "https://www.hackerrank.com/challenges/list-comprehensions\n",
        "\n",
        "\n",
        "**6) Strings and Dictionaries:**\n",
        "https://www.kaggle.com/kernels/fork/1275185\n",
        "https://www.hackerrank.com/challenges/python-string-split-and-join\n",
        "\n",
        "**7) Functions:**\n",
        "https://www.kaggle.com/kernels/fork/1275158\n",
        "\n",
        "https://www.hackerrank.com/challenges/write-a-function\n",
        "\n",
        "**8) Find the Runner-Up Score!**\n",
        "https://www.hackerrank.com/challenges/find-second-maximum-number-in-a-list\n",
        "\n",
        "**9) Finding the percentage**\n",
        "https://www.hackerrank.com/challenges/finding-the-percentage"
      ]
    },
    {
      "cell_type": "markdown",
      "metadata": {
        "id": "SD1Q4zjvJvkE"
      },
      "source": [
        "For any general doubts, please email at - exun@dpsrkp.net\n",
        "\n",
        "For any session related doubts, please email\n",
        "\n",
        "Mannat Kaur - r22582mannat@dpsrkp.net"
      ]
    }
  ]
}